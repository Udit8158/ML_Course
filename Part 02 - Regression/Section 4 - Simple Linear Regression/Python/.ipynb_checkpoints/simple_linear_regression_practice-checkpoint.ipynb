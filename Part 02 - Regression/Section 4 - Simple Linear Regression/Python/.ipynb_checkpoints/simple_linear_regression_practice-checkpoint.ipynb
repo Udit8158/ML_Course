{
 "cells": [
  {
   "cell_type": "markdown",
   "id": "c0de8ac6-adce-4dde-b973-dff46ef8e00a",
   "metadata": {},
   "source": [
    "# Practice Simple Linear Regression"
   ]
  },
  {
   "cell_type": "markdown",
   "id": "1c0bcf05-3d6b-42d0-8462-2ed9e0bfa23a",
   "metadata": {},
   "source": [
    "## Importing libaries"
   ]
  },
  {
   "cell_type": "code",
   "execution_count": null,
   "id": "06ceb084-878a-4554-8752-41c92f649975",
   "metadata": {},
   "outputs": [],
   "source": [
    "import numpy as np \n",
    "import "
   ]
  }
 ],
 "metadata": {
  "kernelspec": {
   "display_name": "Python 3 (ipykernel)",
   "language": "python",
   "name": "python3"
  },
  "language_info": {
   "codemirror_mode": {
    "name": "ipython",
    "version": 3
   },
   "file_extension": ".py",
   "mimetype": "text/x-python",
   "name": "python",
   "nbconvert_exporter": "python",
   "pygments_lexer": "ipython3",
   "version": "3.10.7"
  }
 },
 "nbformat": 4,
 "nbformat_minor": 5
}
